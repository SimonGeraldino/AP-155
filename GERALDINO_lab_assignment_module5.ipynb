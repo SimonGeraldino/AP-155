{
  "nbformat": 4,
  "nbformat_minor": 0,
  "metadata": {
    "colab": {
      "provenance": []
    },
    "kernelspec": {
      "name": "python3",
      "display_name": "Python 3"
    }
  },
  "cells": [
    {
      "cell_type": "markdown",
      "metadata": {
        "id": "G0BcK0H_G1Iu"
      },
      "source": [
        "# **AP155 Lab Assignment**\n",
        "## Module 5: Partial Differential Equations\n",
        "\n",
        "_Instructions_: Answer each problem as completely as you can. Discuss **all** your answers as clearly and concisely as possible.\n",
        "\n",
        "_Scoring Criteria_: 50% - *correctness of code*; 50% - *discussion of the code and results*. Maximum score is **100 points**.\n",
        "\n"
      ]
    },
    {
      "cell_type": "markdown",
      "metadata": {
        "id": "PeHZ9kP8JaVR"
      },
      "source": [
        "### Student Information\n",
        "\n",
        "_Full Name (Last Name, First Name)_: GERALDINO, Simon Paul Andrew M.\\\n",
        "_Student No._: 2020-11068\\\n",
        "_Section_: THU-HX-1"
      ]
    },
    {
      "cell_type": "markdown",
      "metadata": {
        "id": "Hc183co-J4eI"
      },
      "source": [
        "### Submission Information\n",
        "\n",
        "_Date and Time Submitted (most recent upload)_:\n",
        "\n",
        "**HONOR PLEDGE** I affirm that I have upheld the highest principles of honesty and integrity in my academic work and that this lab assignment is my own work.\n",
        "\n",
        "**Sign here with your full name: SIMON PAUL ANDREW M. GERALDINO**"
      ]
    },
    {
      "cell_type": "markdown",
      "metadata": {
        "id": "ZfImNZs6FgGA"
      },
      "source": [
        "### Grading Information (c/o Lab Instructor)\n",
        "\n",
        "TOTAL SCORE: **[]**/100\n",
        "\n",
        "Score breakdown:\n",
        "* Problem 1 - []/100\n",
        "\n",
        "_Date and Time Scored (MM/DD/YYYY HH:MM AM/PM):_"
      ]
    },
    {
      "cell_type": "markdown",
      "metadata": {
        "id": "LxWuqiCFMsEh"
      },
      "source": [
        "### PROBLEM 1\n",
        "**The Schrodinger equation and the Crank-Nicolson method**\n",
        "\n",
        "_Refer to Exercise 9.8 in the Newman text._ In this problem, you will use the Crank-Nicolson method to solve the full time-dependent Schrodinger equation and hence develop a picture of how a wavefunction evolves over time.\n",
        "\n",
        "Consider an electron (mass $M = 9.109 \\times 10^{-31}$ kg) in a box of length $L = 10^{-8}$ m. Suppose that at time $t = 0$ the wavefunction of the electron has the form\n",
        "\n",
        "$$ \\psi(x,0) = \\exp\\left[-\\frac{(x-x_0)^2}{2\\sigma^2}\\right]e^{i\\kappa x},$$\n",
        "where $x_0 = \\frac{L}{2}$, $\\sigma = 1 \\times 10^{-10}$ m, $\\kappa = 5 \\times 10^{10} {\\rm m}^{-1}$,  and $\\psi = 0$ on the walls at $x = 0$ and $x = L$."
      ]
    },
    {
      "cell_type": "markdown",
      "metadata": {
        "id": "VIkyCA1L2Vlt"
      },
      "source": [
        "1. Perform a single step of the Crank-Nicolson method for this electron, calculating the vector $\\psi(t)$ of values of the wavefunction, given the initial wavefunction above and using $N = 1000$ spatial slices with $a = L/N$. Your program will have to perform the following steps. First, given the vector $\\psi(0)$ at $t = 0$, you will have to multiply by the matrix $\\bf{B}$ to get a vector $\\bf{v} = \\bf{B}\\psi$. Because of the tridiagonal form of $\\bf{B}$, this is fairly simple. The $i$th component of $\\bf{v}$ is given by\n",
        "$$ v_i = b_1\\psi_i + b_2(\\psi_{i+1} + \\psi_{i-1}).$$\n",
        "\n",
        "   You will also have to choose a value for the time-step $h$. A reasonable choice is $h = 10^{-18}$ s. *(30 pts.)*\n",
        "\n",
        "2. Second you will have to solve the linear system ${\\bf Ax}= {\\bf v}$ for $\\bf{x}$, which gives you the new value of $\\psi$. You could do this using a standard linear equation solver like the function $\\tt solve$ in numpy's $\\tt linalg$. *(20 pts.)*\n",
        "\n",
        "3. Once you have the code in place to perform a single step of the calculation, extend your program to perform repeated steps and hence solve for $\\psi$ at a sequence of times a separation $h$ apart. Note that the matrix $\\bf A$ is independent of time, so it doesn't change from one step to another. You can set up the matrix just once and then keep on reusing it for every step. *(30 pts.)*\n",
        "\n",
        "4. Make an animation of the solution by displaying the real part of the wavefunction at each time-step. You can use the function rate from the package visual to ensure a smooth frame-rate for your animation-- see Section 3.5 on page 117 of the Newman text.\n",
        "\n",
        "   Run your animation for a while and describe what you see. Write a few sentences explaining in physics terms what is going on in the system. *(20 pts.)*"
      ]
    },
    {
      "cell_type": "code",
      "metadata": {
        "id": "hMqWOsbIMoUh"
      },
      "source": [
        "import numpy as np\n",
        "import matplotlib.pyplot as plt\n",
        "from math import exp\n",
        "\n",
        "# Constants given by the problem\n",
        "M = 9.109e-31         # Mass of an electron\n",
        "L = 1e-8              # Length of the box\n",
        "h = 1e-18             # Time-step\n",
        "hbar = 1.0546e-34     # Reduced Planck's constant\n",
        "\n",
        "# Variables seen in the wavefunction\n",
        "x0 = L/2\n",
        "sigma = 1e-10\n",
        "kappa = 5e10\n",
        "\n",
        "# This is the number of slices\n",
        "N = 1000\n",
        "\n",
        "# This is the distance between the grid points\n",
        "a = L/N"
      ],
      "execution_count": null,
      "outputs": []
    },
    {
      "cell_type": "code",
      "source": [
        "# Now, we set up the matrix elements to be used for the Crank-Nicholson equations\n",
        "a1 = 1 + h*(1j*hbar)/(2*M*a**2)\n",
        "a2 = -h*(1j*hbar)/(4*M*a**2)\n",
        "b1 = 1 - h*(1j*hbar)/(2*M*a**2)\n",
        "b2 = h*(1j*hbar)/(4*M*a**2)\n",
        "\n",
        "# Setting up an array for the grid points\n",
        "x = np.linspace(0, L, N+1)\n",
        "\n",
        "# This function is for the initial wavefunction\n",
        "def psi_t0(x):\n",
        "    return np.exp((-(x-x0)**2)/(2*sigma**2))*np.exp(1j*kappa*x)\n",
        "\n",
        "# We define the function from \"banded.py\" in the Newman textbook\n",
        "def banded(Aa,va,up,down):\n",
        "\n",
        "    A = np.copy(Aa)\n",
        "    v = np.copy(va)\n",
        "    N = len(v)\n",
        "\n",
        "    # Gaussian elimination\n",
        "    for m in range(N):\n",
        "\n",
        "        # Normalization factor\n",
        "        div = A[up,m]\n",
        "\n",
        "        # Update the vector first\n",
        "        v[m] /= div\n",
        "        for k in range(1,down+1):\n",
        "            if m+k<N:\n",
        "                v[m+k] -= A[up+k,m]*v[m]\n",
        "\n",
        "        # Now normalize and subtract the pivot row\n",
        "        for i in range(up):\n",
        "            j = m + up - i\n",
        "            if j<N:\n",
        "                A[i,j] /= div\n",
        "                for k in range(1,down+1):\n",
        "                    A[i+k,j] -= A[up+k,m]*A[i,j]\n",
        "    # Backsubstitution\n",
        "    for m in range(N-2,-1,-1):\n",
        "        for i in range(up):\n",
        "            j = m + up - i\n",
        "            if j<N:\n",
        "                v[m] -= A[i,j]*v[j]\n",
        "\n",
        "    return v\n",
        "\n",
        "# This creates the array \"A\"\n",
        "A = np.empty([3,N],complex)\n",
        "\n",
        "# These are the values for the nonzero elemenets in the tridiagonal matrix A\n",
        "\n",
        "# For the elements on the \"right\" of the diagonal\n",
        "A[0,:] = a2\n",
        "\n",
        "# For the elements on the diagonal of the matrix\n",
        "A[1,:] = a1\n",
        "\n",
        "# For the elements on the \"left\" of the diagonal\n",
        "A[2,:] = a2\n",
        "\n",
        "# This creates the array for the wavefunction\n",
        "psi = np.zeros(N+1,complex)\n",
        "\n",
        "# This sets up the initial wavefunction to array \"psi\"\n",
        "psi[:] = psi_t0(x)\n",
        "\n",
        "# These are the boundary conditions for the wavefunction\n",
        "psi[0] = 0\n",
        "psi[N] = 0\n",
        "\n",
        "# We calculate the vector v = B*psi\n",
        "v = b1*psi[1:N] + b2*(psi[2:N+1] + psi[0:N-1])\n",
        "\n",
        "# We can now solve the matrix with the form Ax = v\n",
        "psi[1:N] = banded(A,v,1,1)"
      ],
      "metadata": {
        "id": "_erBAaHBUwfZ"
      },
      "execution_count": null,
      "outputs": []
    },
    {
      "cell_type": "code",
      "source": [
        "# Now, to plot the wave function psi\n",
        "\n",
        "# This creates the figures and axes\n",
        "fig,ax = plt.subplots()\n",
        "\n",
        "ax.plot(psi)\n",
        "ax.set(title = 'Single step of the Crank-Nicolson method for the wavefunction of the electron',\n",
        "       xlabel = 'x',\n",
        "       ylabel = 'psi(x)')\n",
        "\n",
        "# This plots the single step of wavefunction of the electron\n",
        "plt.show()"
      ],
      "metadata": {
        "colab": {
          "base_uri": "https://localhost:8080/",
          "height": 527
        },
        "id": "QSkV0BHuadbX",
        "outputId": "c8648852-4bc8-4a26-944c-ce558e1deb56"
      },
      "execution_count": null,
      "outputs": [
        {
          "output_type": "stream",
          "name": "stderr",
          "text": [
            "/usr/local/lib/python3.10/dist-packages/matplotlib/cbook/__init__.py:1335: ComplexWarning: Casting complex values to real discards the imaginary part\n",
            "  return np.asarray(x, float)\n"
          ]
        },
        {
          "output_type": "display_data",
          "data": {
            "text/plain": [
              "<Figure size 640x480 with 1 Axes>"
            ],
            "image/png": "[encoded data removed]"
          },
          "metadata": {}
        }
      ]
    }
  ]
}