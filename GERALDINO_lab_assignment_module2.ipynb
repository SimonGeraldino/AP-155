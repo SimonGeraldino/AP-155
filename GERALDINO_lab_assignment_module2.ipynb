{
  "nbformat": 4,
  "nbformat_minor": 0,
  "metadata": {
    "colab": {
      "provenance": []
    },
    "kernelspec": {
      "name": "python3",
      "display_name": "Python 3"
    }
  },
  "cells": [
    {
      "cell_type": "markdown",
      "metadata": {
        "id": "G0BcK0H_G1Iu"
      },
      "source": [
        "# **AP155 Lab Assignment**\n",
        "## Module 2: Solution of Linear and Nonlinear Equations\n",
        "\n",
        "_Instructions_: Answer each problem as completely as you can. Discuss **all** your answers as clearly and concisely as possible.\n",
        "\n",
        "_Scoring Criteria_: 50% - *correctness of code*; 50% - *discussion of the code and results*. Maximum score is **100 points**.\n",
        "\n"
      ]
    },
    {
      "cell_type": "markdown",
      "metadata": {
        "id": "PeHZ9kP8JaVR"
      },
      "source": [
        "### Student Information\n",
        "\n",
        "_Full Name (Last Name, First Name)_: GERALDINO, Simon Paul Andrew M.\\\n",
        "_Student No._: 2020-11068\\\n",
        "_Section_: THX-HX-1"
      ]
    },
    {
      "cell_type": "markdown",
      "metadata": {
        "id": "Hc183co-J4eI"
      },
      "source": [
        "### Submission Information\n",
        "\n",
        "_Date and Time Submitted (most recent upload)_:\n",
        "\n",
        "**HONOR PLEDGE** I affirm that I have upheld the highest principles of honesty and integrity in my academic work and that this lab assignment is my own work.\n",
        "\n",
        "**Sign here with your full name: SIMON PAUL ANDREW M. GERALDINO**"
      ]
    },
    {
      "cell_type": "markdown",
      "metadata": {
        "id": "4LUwfsfMBmvd"
      },
      "source": [
        "### Grading Information (c/o Lab Instructor)\n",
        "\n",
        "TOTAL SCORE: **XX**/100\n",
        "\n",
        "Score breakdown:\n",
        "* Problem 1 - XX/30\n",
        "* Problem 2 - XX/30\n",
        "* Problem 3 - XX/40\n",
        "\n"
      ]
    },
    {
      "cell_type": "markdown",
      "metadata": {
        "id": "kBX9EyMLOnXj"
      },
      "source": [
        "### PROBLEM 1\n",
        "\n",
        "**Solve for eigenvalues and eigenvectors of a symmetric matrix**\n",
        "\n",
        "1. Use numpy's $\\tt linalg$ package to find the eigenvalues and eigenvectors of the ff. symmetrix matrix *(15 pts.)*:\n",
        "\n",
        "$ \\begin{equation}\n",
        "{\\bf A} =\n",
        "\\begin{pmatrix}\n",
        "8 & -2 & -20 \\\\\n",
        "-2 & -3 & -9 \\\\\n",
        "-20 & -9 & -3\n",
        "\\end{pmatrix} \\end{equation} $\n",
        "\n",
        "2. Check your answer numerically; that is, check that $\\bf AV = VD$, where the $N$ x $N$ matrix $\\bf V$ has the eigenvectors as its columns and $\\bf D$ is the diagonal matrix with the eigenvalues $\\lambda_i$ as its diagonal entries. *(15 pts.)*"
      ]
    },
    {
      "cell_type": "code",
      "metadata": {
        "id": "GABjwlXCR97i",
        "colab": {
          "base_uri": "https://localhost:8080/"
        },
        "outputId": "d8899cc0-344a-4a61-8c5f-9fadae6ae5ad"
      },
      "source": [
        "import numpy as np\n",
        "from numpy.linalg import eigh\n",
        "\n",
        "# We create the array A that was given\n",
        "A = np.array([[8, -2, -20],\n",
        "             [-2, -3, -9],\n",
        "             [-20, -9, -3]], float)\n",
        "# a is the array for eigenvalues and x is the array for eigenvectors\n",
        "# We use the \"eigh\" function because the array A is seen to be symmetric.\n",
        "(a,x) = eigh(A)\n",
        "\n",
        "# We can now print the eigenvalues and the eigenvectors we get from the eigh function\n",
        "print(\"The eigenvalues are: \\n\" + str(a))\n",
        "print(\"And the eigenvectors are: \\n\" +str(x))"
      ],
      "execution_count": null,
      "outputs": [
        {
          "output_type": "stream",
          "name": "stdout",
          "text": [
            "The eigenvalues are: \n",
            "[-21.99606195   0.16021522  23.83584674]\n",
            "And the eigenvectors are: \n",
            "[[ 0.52496527  0.36793396 -0.76748685]\n",
            " [ 0.40892672 -0.89987151 -0.15169114]\n",
            " [ 0.74645187  0.2342133   0.62285932]]\n"
          ]
        }
      ]
    },
    {
      "cell_type": "code",
      "source": [
        "# Now, to check if AV = VD\n",
        "\n",
        "# We create an array D, which is a diagonal matrix, with the values of the eigenvalues from array a\n",
        "D = np.array([[a[0], 0, 0],\n",
        "              [0, a[1], 0],\n",
        "              [0, 0, a[2]]], float)\n",
        "\n",
        "# By using the matmul function in numpy, we can multiply two matrices to get AV and VD\n",
        "AV = np.matmul(A, x)\n",
        "VD = np.matmul(x, D)\n",
        "\n",
        "# Check if the difference between these two values will be zero, to see if they are equivalent with each other\n",
        "print(AV - VD)"
      ],
      "metadata": {
        "colab": {
          "base_uri": "https://localhost:8080/"
        },
        "id": "I-g0j6znk2s2",
        "outputId": "250444fb-f2e2-4226-deee-6424203f3dea"
      },
      "execution_count": null,
      "outputs": [
        {
          "output_type": "stream",
          "name": "stdout",
          "text": [
            "[[ 1.77635684e-15  5.96744876e-16  0.00000000e+00]\n",
            " [-1.77635684e-15 -1.05471187e-15  1.33226763e-15]\n",
            " [ 3.55271368e-15 -4.37150316e-16  8.88178420e-15]]\n"
          ]
        }
      ]
    },
    {
      "cell_type": "markdown",
      "source": [
        "The value we get from getting the difference between AV and VD is not specifically 0. However, we can say that the difference is insignificant enough to say that essentially proving that the relationship of multiplying the eigenvalues and the eigenvectors arrays (matrices) and the eigenvector matrix and the diagonal matrix of the eigenvalues holds true."
      ],
      "metadata": {
        "id": "q4qHBYtrreDI"
      }
    },
    {
      "cell_type": "markdown",
      "metadata": {
        "id": "HceOjNu-VfN9"
      },
      "source": [
        "### PROBLEM 2\n",
        "\n",
        "**Solve a nonlinear equation using the relaxation method**\n",
        "\n",
        "Consider the equation $x=1- e^{-cx}$, where $c$ is a known parameter and $x$ is unknown. This equation arises in a variety of situations, including the physics of contact processes, mathematical models of epidemics, and the theory of random graphs.\n",
        "\n",
        "1. Write a program to solve this equation for $x$ using the relaxation method for the case $c = 2$. Calculate your solution to an accuracy of at least $10^{-6}$. *(10 pts.)*\n",
        "\n",
        "2. Modify your program to calculate the solution for values of $c$ from 0 to 3 in steps of 0.01. *(10 pts.)*\n",
        "\n",
        "3. Make a plot of $x$ as a function of $c$. Describe the different regimes that you see. *(10 pts.)*"
      ]
    },
    {
      "cell_type": "code",
      "metadata": {
        "id": "p28JF-OQYock",
        "colab": {
          "base_uri": "https://localhost:8080/"
        },
        "outputId": "57b7e85c-a870-4c1e-b605-a946f7bfd57f"
      },
      "source": [
        "from math import exp\n",
        "\n",
        "# This is the \"assumption\" value at the start\n",
        "x = 1\n",
        "\n",
        "# We are going to use this \"arbitrarily\" set value for the error. This will be changed later on.\n",
        "error = 1\n",
        "\n",
        "# This has been set as the standard of accuracy\n",
        "acc = 1e-6\n",
        "\n",
        "# This is the given value of c\n",
        "c = 2\n",
        "\n",
        "print(\"Solution to x: \\t\\tAccuracy:\")\n",
        "\n",
        "# This while statement loops every time the condition set is not yet true\n",
        "while error > acc:\n",
        "\n",
        "  # We are setting this variable as the \"true value\" of x\n",
        "  x_star = x\n",
        "\n",
        "  # This is the equation given in the problem\n",
        "  x = 1 - exp(-c*x)\n",
        "\n",
        "  # We changing the value of error to the absolute value of the difference between the \"true value\" and the assumption for x. This is the accuracy of the solution.\n",
        "  error = abs(x - x_star)\n",
        "\n",
        "# Prints out the value of x and the accurac\n",
        "print(str(x) + \"\\t\" + str(error))"
      ],
      "execution_count": null,
      "outputs": [
        {
          "output_type": "stream",
          "name": "stdout",
          "text": [
            "Solution to x: \t\tAccuracy:\n",
            "0.7968126311118457\t7.319848429609976e-07\n"
          ]
        }
      ]
    },
    {
      "cell_type": "code",
      "source": [
        "# We will create an array from 0 to 3, with increments 0.01\n",
        "c = np.arange(0,3,0.01)\n",
        "\n",
        "# Creating an empty array that will be used later for containing x values\n",
        "x_arr = []\n",
        "\n",
        "# This for loop is to be used in getting the x values for every c value\n",
        "for i in np.arange(len(c)):\n",
        "\n",
        "  # This is the \"assumption\" value at the start\n",
        "  x = 1\n",
        "\n",
        "  # We are going to use this \"arbitrarily\" set value for the error. This will be changed later on.\n",
        "  error = 1\n",
        "\n",
        "  # This has been set as the standard of accuracy\n",
        "  acc = 1e-6\n",
        "\n",
        "  # This while statement loops every time the condition set is not yet true\n",
        "  while error > acc:\n",
        "\n",
        "    # We are setting this variable as the \"true value\" of x\n",
        "    x_star = x\n",
        "\n",
        "    # This is the equation given in the problem\n",
        "    x = 1 - exp(-c[i]*x)\n",
        "\n",
        "    # We changing the value of error to the absolute value of the difference between the \"true value\" and the assumption for x. This is the accuracy of the solution.\n",
        "    error = abs(x - x_star)\n",
        "\n",
        "  # We are adding all instances of x that have passed the condition set in the while loop\n",
        "  x_arr = np.append(x_arr, x)"
      ],
      "metadata": {
        "id": "zr05eyvarISo"
      },
      "execution_count": null,
      "outputs": []
    },
    {
      "cell_type": "code",
      "source": [
        "import matplotlib.pyplot as plt\n",
        "\n",
        "# This is used for creating figures and axes\n",
        "fig,ax = plt.subplots()\n",
        "\n",
        "# We can now create a graph using the values of c and its corresponding values of x\n",
        "ax.plot(c[1:],x_arr[1:])\n",
        "ax.set(title = 'Plot of x as a function of c',\n",
        "       ylabel = 'x',\n",
        "       xlabel = 'c')\n",
        "\n",
        "# This is to show the graph\n",
        "plt.show()"
      ],
      "metadata": {
        "id": "qZiHyQ4wsKFH",
        "colab": {
          "base_uri": "https://localhost:8080/",
          "height": 472
        },
        "outputId": "71ccfa10-f207-40e8-aa66-af7bb14e0f06"
      },
      "execution_count": null,
      "outputs": [
        {
          "output_type": "display_data",
          "data": {
            "text/plain": [
              "<Figure size 640x480 with 1 Axes>"
            ],
            "image/png": "[encoded data removed]"
          },
          "metadata": {}
        }
      ]
    },
    {
      "cell_type": "markdown",
      "source": [
        "The graph shown above is the plot of x as a function of c. From observing this plot, we can see that the values of c, from 0 to 1, does not change the value of x. The next values of c, from 1 to 3, shows a logarithmic progression of increase in the value of x. Another observation we can see is that the value of x (when c = 2) from Problem 2.1 seems to be reflected in the graph."
      ],
      "metadata": {
        "id": "F01mF-QcvZ05"
      }
    },
    {
      "cell_type": "markdown",
      "metadata": {
        "id": "BY5x-mZsYoqG"
      },
      "source": [
        "### PROBLEM 3\n",
        "\n",
        "**Physics Application: Calculating the Lagrange point**\n",
        "\n",
        "_Refer to Exercise 6.16 of the Newman text._ The $L_1$ Lagrange point is the point between the Earth and the Moon at which a satellite will orbit the Earth in perfect synchrony with the Moon, staying always in between the two.\n",
        "\n",
        "Assuming circular orbits, and assuming that the Earth is much more massive than either the Moon or the satellite, the distance $r$ from the center of the Earth to the $L_1$ point satisfies\n",
        "$$ \\begin{equation}\n",
        "\\frac{GM}{r^2} - \\frac{Gm}{(R-r)^2} = \\omega^2 r,\n",
        "\\end{equation} $$\n",
        "where $R$ is the distance from the Earth to the Moon, $M$ and $m$ are the Earth and Moon masses, $G$ is Newton's gravitational constant, and $\\omega$ is the angular velocity of both the Moon and the satellite."
      ]
    },
    {
      "cell_type": "markdown",
      "metadata": {
        "id": "LlDDXIZ46CKU"
      },
      "source": [
        "Use Newton's method to solve for the distance r from the Earth to the $L_1$ point. Compute a solution accurate to at least four significant figures."
      ]
    },
    {
      "cell_type": "code",
      "metadata": {
        "id": "Jiu5YAx6aMmq",
        "colab": {
          "base_uri": "https://localhost:8080/"
        },
        "outputId": "405c2cb8-4ad3-4b68-c117-8f187fc4ccb8"
      },
      "source": [
        "# These are the values of the constants (which were provided)\n",
        "Gconst = 6.674e-11  # Gravitational constant\n",
        "M_earth = 5.974e24  # Mass of Earth\n",
        "M_moon = 7.348e22   # Mass of Moon\n",
        "R_moon = 3.844e8    # Distance of moon from Earth\n",
        "omega = 2.662e-6    # Angular velocity of the Moon\n",
        "\n",
        "# This defines the function of r in getting the L_1 Lagrange point\n",
        "def f(r):\n",
        "  return Gconst*M_earth/r**2 - Gconst*M_moon/(R_moon - r)**2 - omega**2*r\n",
        "\n",
        "# This defines the function of r, which is the \"hand-solved\" derivative of the f(r)\n",
        "def df(r):\n",
        "  return -2*Gconst*M_earth/r**3 - 2*Gconst*M_moon/(R_moon - r)**3 - omega**2\n",
        "\n",
        "# We are setting this as the initial value of x\n",
        "x_star = 3e8\n",
        "\n",
        "# This for loop is used to create multiple instances of x_star to get to the more accurate answer (for every instance of i)\n",
        "for i in range(10):\n",
        "\n",
        "  # This is the Newton's method way of getting L_1\n",
        "  x_star = x_star - f(x_star)/df(x_star)\n",
        "\n",
        "# This prints out x_star, which is the distance of L_1 from Earth\n",
        "print(\"The distance of L_1 from Earth is \" + str(x_star) + \" meters\")"
      ],
      "execution_count": null,
      "outputs": [
        {
          "output_type": "stream",
          "name": "stdout",
          "text": [
            "The distance of L_1 from Earth is 326045071.66535544 m\n"
          ]
        }
      ]
    },
    {
      "cell_type": "markdown",
      "source": [
        "After looking at the multiple values of x_star per instance of i, we can observe that it takes less number of loops to get to a significantly accurate answer."
      ],
      "metadata": {
        "id": "PJDI6j_R802i"
      }
    }
  ]
}