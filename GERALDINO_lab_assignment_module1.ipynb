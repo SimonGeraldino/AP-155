{
  "nbformat": 4,
  "nbformat_minor": 0,
  "metadata": {
    "colab": {
      "provenance": []
    },
    "kernelspec": {
      "name": "python3",
      "display_name": "Python 3"
    }
  },
  "cells": [
    {
      "cell_type": "markdown",
      "metadata": {
        "id": "G0BcK0H_G1Iu"
      },
      "source": [
        "# **AP155 Lab Assignment**\n",
        "## Module 1: Integrals and Derivatives\n",
        "\n",
        "_Instructions_: Answer each problem as completely as you can. Discuss **all** your answers as clearly and concisely as possible.\n",
        "\n",
        "_Scoring Criteria_: 50% - *correctness of code*; 50% - *discussion of the code and results*. Maximum score is **100 points**.\n",
        "\n",
        "\n"
      ]
    },
    {
      "cell_type": "markdown",
      "metadata": {
        "id": "PeHZ9kP8JaVR"
      },
      "source": [
        "### Student Information\n",
        "\n",
        "_Full Name (Last Name, First Name)_: GERALDINO, Simon Paul Andrew\\\n",
        "_Student No._: 2020-11068\\\n",
        "_Section_: THU-HX 1"
      ]
    },
    {
      "cell_type": "markdown",
      "metadata": {
        "id": "Hc183co-J4eI"
      },
      "source": [
        "### Submission Information\n",
        "\n",
        "_Date and Time Submitted (most recent upload)_:\n",
        "\n",
        "**HONOR PLEDGE** I affirm that I have upheld the highest principles of honesty and integrity in my academic work and that this lab assignment is my own work.\n",
        "\n",
        "**Sign here with your full name:** Simon Paul Andrew M. Geraldino"
      ]
    },
    {
      "cell_type": "markdown",
      "metadata": {
        "id": "X1UGsRpW-eQs"
      },
      "source": [
        "### Grading Information (c/o Lab Instructor)\n",
        "\n",
        "TOTAL SCORE: **XX**/100\n",
        "\n",
        "Score breakdown:\n",
        "* Problem 1 - XX/30\n",
        "* Problem 2 - XX/30\n",
        "* Problem 3 - XX/40\n",
        "\n",
        "_Date and Time Scored (MM/DD/YYYY HH:MM AM/PM):_"
      ]
    },
    {
      "cell_type": "markdown",
      "metadata": {
        "id": "LxWuqiCFMsEh"
      },
      "source": [
        "### PROBLEM 1\n",
        "**Integration using the trapezoidal rule and Simpson's rule**\n",
        "\n",
        "Calculate the integral of the function $ 2x^4 + 3x^2 + 4x + 5$ from $x=0$ to $x=5$.\n",
        "\n",
        "1. Do the numerical calculation using the trapezoidal rule with 10, 100, and 1,000 slices. Describe each step of the calculation clearly and concisely. *(10 pts.)*\n",
        "\n",
        "2. What are the percentage errors of your answers in (1)? *(10 pts.)*\n",
        "\n",
        "3. Repeat the calculation using Simpson's rule with 10, 100, and 1,000 slices. Describe each step of the calculation clearly and concisely. *(5 pts.)*\n",
        "\n",
        "4. What are the percentage errors of your answers in (3)? How do they compare with the results from (1) for the same number of slices? *(5 pts.)*"
      ]
    },
    {
      "cell_type": "markdown",
      "source": [
        "### Integration using Trapezoidal Rule\n"
      ],
      "metadata": {
        "id": "qHElML0Io0S8"
      }
    },
    {
      "cell_type": "code",
      "source": [
        "# Integration using the Trapezoidal rule with 10, 100, and 1000 slices\n",
        "\n",
        "# This will be used to define the polynomial function\n",
        "def f(x):\n",
        "    return 2*x**4 + 3*x**2 + 4*x + 5\n",
        "\n",
        "# These are the bounds for the integration, with a as the lower bound and b as the upper bound\n",
        "a = 0\n",
        "b = 5\n",
        "\n",
        "# This is used for setting up the number of slices used in the integration\n",
        "for i in range(1,4):\n",
        "\n",
        "    # This variable is set as the number of slices\n",
        "    N = 10**i\n",
        "\n",
        "    # This is the width of each slice in the integration\n",
        "    h = (b - a)/N\n",
        "\n",
        "    # Setting up the sum for the integration\n",
        "    s = 0.5*f(a) + 0.5*f(b)\n",
        "\n",
        "    # This repeatedly adds values of s from k=1 to k=N-1\n",
        "    for k in range(1,N):\n",
        "        s += f(a+k*h)\n",
        "\n",
        "    # The answer of the trapezoidal integration\n",
        "    I_trap = h*s\n",
        "\n",
        "    # The answer after computing the integration by hand.\n",
        "    I_theo = 1450\n",
        "\n",
        "    # Calculating the percent error of I_trap compared to I_theo\n",
        "    P_error_trap = (I_trap - I_theo)/I_theo*100\n",
        "\n",
        "    print(\"Number of slices = \" + str(N))\n",
        "    print(\"Integration answer = \" + str(I_trap))\n",
        "    print(\"Percent error = \" + str(P_error_trap) + \"\\n\")"
      ],
      "metadata": {
        "colab": {
          "base_uri": "https://localhost:8080/"
        },
        "id": "YjVZrP7eCvTa",
        "outputId": "5cb39bf0-06af-474b-828e-5e6f613b11a5"
      },
      "execution_count": null,
      "outputs": [
        {
          "output_type": "stream",
          "name": "stdout",
          "text": [
            "Number of slices = 10\n",
            "Integration answer = 1471.4375\n",
            "Percent error = 1.478448275862069\n",
            "\n",
            "Number of slices = 100\n",
            "Integration answer = 1450.2145812500003\n",
            "Percent error = 0.014798706896569988\n",
            "\n",
            "Number of slices = 1000\n",
            "Integration answer = 1450.0021458331234\n",
            "Percent error = 0.00014798849127240326\n",
            "\n"
          ]
        }
      ]
    },
    {
      "cell_type": "markdown",
      "source": [
        "### Integration using Simpson's Rule"
      ],
      "metadata": {
        "id": "TrHCRo4Bo7TY"
      }
    },
    {
      "cell_type": "code",
      "source": [
        "# Integration using the Simpson's rule with 10, 100, 1000 slices\n",
        "\n",
        "# This will be used to define the polynomial function\n",
        "def f(x):\n",
        "    return 2*x**4 + 3*x**2 + 4*x + 5\n",
        "\n",
        "# These are the bounds for the integration, with a as the lower bound and b as the upper bound\n",
        "a = 0\n",
        "b = 5\n",
        "\n",
        "# This is used for setting up the number of slices used in the integration\n",
        "for i in range(1,4):\n",
        "\n",
        "    # This variable is set as the number of slices\n",
        "    N = 10**i\n",
        "\n",
        "    # This is the width of each slice in the integration\n",
        "    h = (b - a)/N\n",
        "\n",
        "    # Setting up the sum for the integration\n",
        "    s = f(a) + f(b)\n",
        "\n",
        "    # This repeatedly adds odd values of k to s\n",
        "    for k in range(1, N, 2):\n",
        "        s += 4*f(a+k*h)\n",
        "\n",
        "    # This repeatedly adds even values of k to s\n",
        "    for k in range(2, N, 2):\n",
        "        s += 2*f(a+k*h)\n",
        "\n",
        "    # The answer of the Simpson's integration\n",
        "    I_simp = 1/3*h*s\n",
        "\n",
        "    # The answer after computing the integration by hand.\n",
        "    I_theo = 1450\n",
        "\n",
        "    # Calculating the percent error of I_simp compared to I_theo\n",
        "    P_error_simp = (I_simp - I_theo)/I_theo*100\n",
        "\n",
        "    print(\"The number of slices used is \" + str(N))\n",
        "    print(I_simp)\n",
        "    print(\"The percent error is \" + str(P_error_simp) + \"\\n\")"
      ],
      "metadata": {
        "id": "DM-2CG91A0Ce",
        "colab": {
          "base_uri": "https://localhost:8080/"
        },
        "outputId": "ce16d790-601e-4c1e-fcc7-afcd107534a9"
      },
      "execution_count": null,
      "outputs": [
        {
          "output_type": "stream",
          "name": "stdout",
          "text": [
            "The number of slices used is 10\n",
            "1450.0833333333333\n",
            "The percent error is 0.005747126436776382\n",
            "\n",
            "The number of slices used is 100\n",
            "1450.0000083333337\n",
            "The percent error is 5.747126657485657e-07\n",
            "\n",
            "The number of slices used is 1000\n",
            "1450.000000000834\n",
            "The percent error is 5.75176994155707e-11\n",
            "\n"
          ]
        }
      ]
    },
    {
      "cell_type": "markdown",
      "source": [
        "## Additional Info:\n",
        "\n",
        "For both these rules of integration, we can see that the answer we get from the different calculations, with differing N slices, that the percent error becomes lower when N is bigger. If we look at the percent errors with more depth, we can see that the errors in Trapezoidal Rule decrease with the factor of N^2 while the Simpson's Rule decrease with the factor N^4.\n",
        "\n",
        "Additionally, after looking at both the percent errors of these rules, we can see that the Simpson's Rule has shown a more accurate answer due to its lower percent error compared to the other rule."
      ],
      "metadata": {
        "id": "K12i16depGDe"
      }
    },
    {
      "cell_type": "markdown",
      "metadata": {
        "id": "m2a6sg90R-NX"
      },
      "source": [
        "### PROBLEM 2\n",
        "\n",
        "**Integration using Gaussian quadrature**\n",
        "\n",
        "Calculate the integral from Problem 1 using the Gaussian quadrature method: $ 2x^4 + 3x^2 + 4x + 5$ from $x=0$ to $x=5$.\n",
        "\n",
        "1. Define the function $\\tt gaussxw$ from Appendix E of the Newman text (and run the cell). *(10 pts.)*\n",
        "\n",
        "2. Calculate the integral using the $\\tt gaussxw$ function in (1) and number of slices $N = 3$. Describe each step in the calculation clearly and concisely. *(20 pts.)*"
      ]
    },
    {
      "cell_type": "code",
      "source": [
        "# We define the function gaussxw from Appendex E of the Newman text\n",
        "\n",
        "from numpy import ones,copy,cos,tan,pi,linspace\n",
        "\n",
        "def gaussxw(N):\n",
        "\n",
        "    # Initial approximation to roots of the Legendre polynomnila\n",
        "    a = linspace(3,4*N-1,N)/(4*N+2)\n",
        "    x = cos(pi*a+1/(8*N*N*tan(a)))\n",
        "\n",
        "    # Find roots using the Newton's method\n",
        "    epsilon = 1e-15\n",
        "    delta = 1.0\n",
        "\n",
        "    while delta > epsilon:\n",
        "        p0 = ones(N,float)\n",
        "        p1 = copy(x)\n",
        "\n",
        "        for k in range(1,N):\n",
        "            p0,p1 = p1,((2*k+1)*x*p1-k*p0)/(k+1)\n",
        "        dp = (N+1)*(p0-x*p1)/(1-x*x)\n",
        "        dx = p1/dp\n",
        "        x -= dx\n",
        "        delta = max(abs(dx))\n",
        "\n",
        "    # Calculate the weights\n",
        "    w = 2*(N+1)*(N+1)/(N*N*(1-x*x)*dp*dp)\n",
        "\n",
        "    return x,w"
      ],
      "metadata": {
        "id": "sXHdKl_i4XF2"
      },
      "execution_count": null,
      "outputs": []
    },
    {
      "cell_type": "code",
      "metadata": {
        "id": "YO_PDJ4VIVs5",
        "colab": {
          "base_uri": "https://localhost:8080/"
        },
        "outputId": "45751a34-8ecb-4306-c622-e49e6027e827"
      },
      "source": [
        "# This is for the integration of the function using Gaussian quadrature\n",
        "\n",
        "# This will be used to define the polynomial function\n",
        "def f(x):\n",
        "    return 2*x**4 + 3*x**2 + 4*x + 5\n",
        "\n",
        "# The number of slices stated in the problem\n",
        "N = 3\n",
        "\n",
        "# These are the bounds for the integration, with a as the lower bound and b as the upper bound\n",
        "a = 0\n",
        "b = 5\n",
        "\n",
        "# We will use this to calculate the sample points and weights, and map the values to the required integration domain\n",
        "x,w = gaussxw(N)\n",
        "xp = 0.5*(b-a)*x + 0.5*(b+a)\n",
        "wp = 0.5*(b-a)*w\n",
        "\n",
        "# Setting the initial value of the sum to zero\n",
        "s = 0.\n",
        "\n",
        "# The integration is performed here by adding N number instances to s\n",
        "for k in range(N):\n",
        "    s += wp[k]*f(xp[k])\n",
        "\n",
        "print(\"The Integration answer by using the Gaussian quadrature is \" + str(s) + \"\\n\")\n",
        "\n",
        "print(\"The percent error is \" + str((s-I_theo)/s*100))"
      ],
      "execution_count": null,
      "outputs": [
        {
          "output_type": "stream",
          "name": "stdout",
          "text": [
            "The Integration answer by using the Gaussian quadrature is 1450.000000000002\n",
            "\n",
            "The percent error is 1.4112848820614384e-13\n"
          ]
        }
      ]
    },
    {
      "cell_type": "markdown",
      "source": [
        "I added a percent error in the answer to see how much is the difference of the answer you get in the Gaussian quadrature when compared to the \"by-hand\" answer, seen in I_theo. We can see that this answer, represented by the variable s, is more accurate than the previous rules used for integration. As an experiment, I changed N value multiple times and observed that the integration answer we get from N=3 does not really change much when N is increased."
      ],
      "metadata": {
        "id": "4DqSqc0JsVJO"
      }
    },
    {
      "cell_type": "markdown",
      "metadata": {
        "id": "HceOjNu-VfN9"
      },
      "source": [
        "### PROBLEM 3\n",
        "\n",
        "**Physics Application: Anharmonic Oscillator**\n",
        "\n",
        "_Refer to Exercise 5.10 of the Newman text._ Consider an anharmonic oscillator with potential $V(x)$ symmetric about $x = 0$. Let us set our anharmonic oscillator going with amplitude $a$. That is, at $t = 0$ we release it from rest at position $x = a$ and it swings back towards the origin. Then at $t = 0$ we have $dx/dt = 0$ and the equation for its total energy becomes $E = V(a)$, i.e., the total energy of the particle is given in terms of the amplitude.\n",
        "\n",
        "When the particle reaches the origin for the first time, it has gone through one quarter of a period of the oscillator. The period $T$ is given by: $$ T = \\sqrt{8m} \\int_0^a \\frac{dx}{\\sqrt{V(a)-V(x)}}. $$\n",
        "\n",
        "1. Suppose the potential is $V(x) = x^4$ and the mass of the particle is $m = 1$. Write a Python function that calculates the period of the oscillator for given amplitude a using Gaussian quadrature with $N = 20$ points. Describe each step clearly and concisely. *(20 pts.)*\n",
        "\n",
        "2. Use your function to make a graph of the period for amplitudes ranging from $a = 0$ to $a = 2$. Describe the behavior you find and explain these results clearly and concisely. *(20 pts.)*"
      ]
    },
    {
      "cell_type": "code",
      "metadata": {
        "id": "p28JF-OQYock"
      },
      "source": [
        "# This will be used to define the potential function\n",
        "def V(x):\n",
        "    return x**4\n",
        "\n",
        "# This will be used to define the period function, before integration\n",
        "# Variables used: x = position; m = mass; A = amplitude\n",
        "def P(x, m, A):\n",
        "    return np.sqrt(8*m)/np.sqrt(V(A)-V(x))\n",
        "\n",
        "# This will be used to define the period, after the integration\n",
        "# Variable used: a = lower bound; b = upper bound; N = number of slices; m = mass\n",
        "def T(a, b, N, m):\n",
        "\n",
        "    # We will use this to calculate the sample points and weights, and map the values to the required integration domain\n",
        "    x,w = gaussxw(N)\n",
        "    xp = 0.5*(b-a)*x+0.5*(b+a)\n",
        "    wp = 0.5*(b-a)*w\n",
        "\n",
        "    # Setting the initial value of the sum to zero\n",
        "    s = 0.\n",
        "\n",
        "    # The integration is performed here by adding N number instances to s\n",
        "    for k in range(N):\n",
        "        s += wp[k]*P(xp[k], m, b)\n",
        "\n",
        "    return s"
      ],
      "execution_count": null,
      "outputs": []
    },
    {
      "cell_type": "code",
      "source": [
        "import matplotlib.pyplot as plt\n",
        "import numpy as np\n",
        "\n",
        "# We will set an array of amplitudes\n",
        "A = np.linspace(0,2,100)\n",
        "\n",
        "# We will set an empty array for the period graph\n",
        "T_arr = [None]\n",
        "\n",
        "# We will use this to create multiple values of the period for the graph later\n",
        "for i in np.arange(99):\n",
        "    T_arr = np.append(T_arr, T(0, A[i+1], 20, 1))\n",
        "\n",
        "# This will used for creating the figures and axes\n",
        "fig, ax = plt.subplots()\n",
        "\n",
        "# We will now create the graph using the amplitude value and its corresponding period\n",
        "ax.plot(A[1:], T_arr[1:], 'g')\n",
        "ax.set(title = 'Period vs Amplitude',\n",
        "       ylabel = 'Period',\n",
        "       xlabel = 'Amplitude')\n",
        "\n",
        "# We will now show the graph\n",
        "plt.show()"
      ],
      "metadata": {
        "id": "olPHE9JNcILV",
        "colab": {
          "base_uri": "https://localhost:8080/",
          "height": 472
        },
        "outputId": "0ba3a089-9f71-499b-faec-2d1341dd6428"
      },
      "execution_count": null,
      "outputs": [
        {
          "output_type": "display_data",
          "data": {
            "text/plain": [
              "<Figure size 640x480 with 1 Axes>"
            ],
            "image/png": "[encoded data removed]"
          },
          "metadata": {}
        }
      ]
    },
    {
      "cell_type": "markdown",
      "source": [
        "In this plot, we see that there is a logarithmic progression between the amplitude and the period. This relationship is seen as the period decreases while the amplitude is increased.\n",
        "\n",
        "When the upper bound of integration for the Period is increased, we will still see this logarithmic line, which makes the small difference seen in the given bounds of integration is enough to have a gist the overall relationship and graph of the amplitude and the period."
      ],
      "metadata": {
        "id": "QKbiknMptZsT"
      }
    }
  ]
}